{
  "nbformat": 4,
  "nbformat_minor": 0,
  "metadata": {
    "colab": {
      "provenance": [],
      "authorship_tag": "ABX9TyPKiucVl0Fs9GDTAho2MoHA",
      "include_colab_link": true
    },
    "kernelspec": {
      "name": "python3",
      "display_name": "Python 3"
    },
    "language_info": {
      "name": "python"
    }
  },
  "cells": [
    {
      "cell_type": "markdown",
      "metadata": {
        "id": "view-in-github",
        "colab_type": "text"
      },
      "source": [
        "<a href=\"https://colab.research.google.com/github/prashantambadekar/pranayama-lung-health-ml/blob/main/Pranayama_Participant_Data.ipynb\" target=\"_parent\"><img src=\"https://colab.research.google.com/assets/colab-badge.svg\" alt=\"Open In Colab\"/></a>"
      ]
    },
    {
      "cell_type": "code",
      "execution_count": null,
      "metadata": {
        "id": "zgshH2xNsbzm"
      },
      "outputs": [],
      "source": [
        "import pandas as pd\n",
        "import numpy as np\n",
        "import matplotlib.pyplot as plt\n",
        "import seaborn as sns\n",
        "from sklearn.ensemble import RandomForestClassifier\n",
        "from sklearn.model_selection import train_test_split\n",
        "from sklearn.preprocessing import StandardScaler\n",
        "from sklearn.metrics import accuracy_score, classification_report, confusion_matrix"
      ]
    },
    {
      "cell_type": "code",
      "source": [
        "\n",
        "# Load your data (ensure it is in a CSV format or a similar file type)\n",
        "from google.colab import files\n",
        "uploaded = files.upload()"
      ],
      "metadata": {
        "id": "pPmvXs5ospyX"
      },
      "execution_count": null,
      "outputs": []
    },
    {
      "cell_type": "code",
      "source": [
        "file_path = list(uploaded.keys())[0]"
      ],
      "metadata": {
        "id": "p6Td3iLSJfv1"
      },
      "execution_count": null,
      "outputs": []
    },
    {
      "cell_type": "code",
      "source": [
        "df = pd.read_excel(file_path)"
      ],
      "metadata": {
        "id": "dkdIV0G4IvRr"
      },
      "execution_count": null,
      "outputs": []
    },
    {
      "cell_type": "code",
      "source": [
        "# 2. Define features and target\n",
        "features = ['LungCap_After', 'Resp_After', 'OxySat_After', 'Δ_LungCap', 'Δ_Resp', 'Δ_OxySat']\n",
        "target = 'LungStatus'"
      ],
      "metadata": {
        "id": "7hxf3M_nJoz6"
      },
      "execution_count": null,
      "outputs": []
    },
    {
      "cell_type": "code",
      "source": [
        "X = df[features]\n",
        "y = df[target]"
      ],
      "metadata": {
        "id": "uffyjMgBJusg"
      },
      "execution_count": null,
      "outputs": []
    },
    {
      "cell_type": "code",
      "source": [
        "# 3. Scale features\n",
        "scaler = StandardScaler()\n",
        "X_scaled = scaler.fit_transform(X)"
      ],
      "metadata": {
        "id": "VPefuK-KJyzK"
      },
      "execution_count": null,
      "outputs": []
    },
    {
      "cell_type": "code",
      "source": [
        "# 4. Train-test split\n",
        "X_train, X_test, y_train, y_test = train_test_split(X_scaled, y, test_size=0.2, random_state=42)"
      ],
      "metadata": {
        "id": "Mm376YE0J5DY"
      },
      "execution_count": null,
      "outputs": []
    },
    {
      "cell_type": "code",
      "source": [
        "# 5. Train model\n",
        "model = RandomForestClassifier(random_state=42)\n",
        "model.fit(X_train, y_train)"
      ],
      "metadata": {
        "id": "4d5sD62LJ8pR"
      },
      "execution_count": null,
      "outputs": []
    },
    {
      "cell_type": "code",
      "source": [
        "# 6. Evaluate\n",
        "y_pred = model.predict(X_test)\n",
        "print(\"Accuracy:\", accuracy_score(y_test, y_pred))\n",
        "print(\"Classification Report:\\n\", classification_report(y_test, y_pred))"
      ],
      "metadata": {
        "id": "-m0qSYm6XycL"
      },
      "execution_count": null,
      "outputs": []
    },
    {
      "cell_type": "code",
      "source": [
        "# 7. Evaluate\n",
        "y_pred1 = model.predict(X_train)\n",
        "print(\"Accuracy:\", accuracy_score(y_train, y_pred1))\n",
        "print(\"Classification Report:\\n\", classification_report(y_train, y_pred1))"
      ],
      "metadata": {
        "id": "KNYWdf1vKFND"
      },
      "execution_count": null,
      "outputs": []
    },
    {
      "cell_type": "code",
      "source": [
        "# 7. Feature importance plot\n",
        "importances = model.feature_importances_\n",
        "plt.figure(figsize=(8, 6))\n",
        "sns.barplot(x=importances, y=features, palette=\"mako\")\n",
        "plt.title(\"Feature Importance\")\n",
        "plt.show()"
      ],
      "metadata": {
        "id": "hVDXwlqFKKOo"
      },
      "execution_count": null,
      "outputs": []
    },
    {
      "cell_type": "code",
      "source": [
        "# 8. Confusion matrix\n",
        "cm = confusion_matrix(y_test, y_pred)\n",
        "plt.figure(figsize=(6, 5))\n",
        "sns.heatmap(cm, annot=True, fmt='d', cmap='Blues', xticklabels=[\"Needs Improvement\", \"Healthy\"], yticklabels=[\"Needs Improvement\", \"Healthy\"])\n",
        "plt.xlabel(\"Predicted\")\n",
        "plt.ylabel(\"Actual\")\n",
        "plt.title(\"Confusion Matrix\")\n",
        "plt.show()"
      ],
      "metadata": {
        "id": "WaDTt64mKQoh"
      },
      "execution_count": null,
      "outputs": []
    },
    {
      "cell_type": "code",
      "source": [
        "# 9. Predict for a new person\n",
        "new_person = {\n",
        "    'LungCap_Before': 2,\n",
        "    'LungCap_After': 7,\n",
        "    'Resp_Before': 450,\n",
        "    'Resp_After':510,\n",
        "    'OxySat_Before': 95,\n",
        "    'OxySat_After': 99}"
      ],
      "metadata": {
        "id": "KNKVuPcYKVtS"
      },
      "execution_count": null,
      "outputs": []
    },
    {
      "cell_type": "code",
      "source": [
        "# Compute differences\n",
        "new_person['Δ_LungCap'] = new_person['LungCap_After'] - new_person['LungCap_Before']\n",
        "new_person['Δ_Resp'] = new_person['Resp_After'] - new_person['Resp_Before']\n",
        "new_person['Δ_OxySat'] = new_person['OxySat_After'] - new_person['OxySat_Before']"
      ],
      "metadata": {
        "id": "lPLGwc2xKhu5"
      },
      "execution_count": null,
      "outputs": []
    },
    {
      "cell_type": "code",
      "source": [
        "# Prepare input\n",
        "new_data = pd.DataFrame([{\n",
        "    'LungCap_After': new_person['LungCap_After'],\n",
        "    'Resp_After': new_person['Resp_After'],\n",
        "    'OxySat_After': new_person['OxySat_After'],\n",
        "    'Δ_LungCap': new_person['Δ_LungCap'],\n",
        "    'Δ_Resp': new_person['Δ_Resp'],\n",
        "    'Δ_OxySat': new_person['Δ_OxySat']\n",
        "}])"
      ],
      "metadata": {
        "id": "ZzM4ga9-Knl5"
      },
      "execution_count": null,
      "outputs": []
    },
    {
      "cell_type": "code",
      "source": [
        "# Scale and predict\n",
        "new_data_scaled = scaler.transform(new_data)\n",
        "status = model.predict(new_data_scaled)[0]\n",
        "status_text = \"Healthy\" if status == 1 else \"Health Needs Improvement\"\n",
        "print(f\"Predicted Lung Status for New Person: {status_text}\")"
      ],
      "metadata": {
        "id": "mmcHD6xXKrgZ"
      },
      "execution_count": null,
      "outputs": []
    },
    {
      "cell_type": "code",
      "source": [
        "# 10. Graph for new person\n",
        "categories = ['LungCapacity', 'RespRate', 'OxygenSat']\n",
        "before_vals = [new_person['LungCap_Before'], new_person['Resp_Before'], new_person['OxySat_Before']]\n",
        "after_vals = [new_person['LungCap_After'], new_person['Resp_After'], new_person['OxySat_After']]\n",
        "diff_vals = [new_person['Δ_LungCap'], new_person['Δ_Resp'], new_person['Δ_OxySat']]\n"
      ],
      "metadata": {
        "id": "Ee6p1jTpLOHX"
      },
      "execution_count": null,
      "outputs": []
    },
    {
      "cell_type": "code",
      "source": [
        "# Lists for categories and values\n",
        "categories = ['LungCapacity', 'RespRate', 'OxygenSat']\n",
        "before_vals = [new_person['LungCap_Before'], new_person['Resp_Before'], new_person['OxySat_Before']]\n",
        "after_vals = [new_person['LungCap_After'], new_person['Resp_After'], new_person['OxySat_After']]\n",
        "diff_vals = [new_person['Δ_LungCap'], new_person['Δ_Resp'], new_person['Δ_OxySat']]\n"
      ],
      "metadata": {
        "id": "KUR6Q2AKNjPf"
      },
      "execution_count": null,
      "outputs": []
    },
    {
      "cell_type": "code",
      "source": [
        "# Create separate bar and line graphs for each category\n",
        "for i, category in enumerate(categories):\n",
        "    # Bar Chart\n",
        "    plt.figure(figsize=(6, 4))\n",
        "    plt.bar(['Before', 'After'], [before_vals[i], after_vals[i]], color=['skyblue', 'salmon'])\n",
        "    plt.title(f\"{category} Before vs After Pranayama\")\n",
        "    plt.ylabel(\"Value\")\n",
        "    plt.grid(axis='y', linestyle='--', alpha=0.7)\n",
        "    plt.show()"
      ],
      "metadata": {
        "id": "wmym7OyFRjzb"
      },
      "execution_count": null,
      "outputs": []
    },
    {
      "cell_type": "code",
      "source": [
        "for i, category in enumerate(categories):\n",
        "# Line Chart for Change\n",
        "    plt.figure(figsize=(6, 4))\n",
        "    plt.plot(['Before', 'After'], [before_vals[i], after_vals[i]], marker='o', color='green', label=category)\n",
        "    plt.title(f\"{category} Change After Pranayama\")\n",
        "    plt.ylabel(\"Value\")\n",
        "    plt.grid(True, linestyle='--', alpha=0.7)\n",
        "    plt.legend()\n",
        "    plt.show()"
      ],
      "metadata": {
        "id": "VxUCHUwlRqz0"
      },
      "execution_count": null,
      "outputs": []
    }
  ]
}